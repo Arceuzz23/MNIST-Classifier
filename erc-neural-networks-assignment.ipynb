{
 "cells": [
  {
   "cell_type": "code",
   "execution_count": 1,
   "id": "4ef8547b",
   "metadata": {
    "_cell_guid": "b1076dfc-b9ad-4769-8c92-a6c4dae69d19",
    "_uuid": "8f2839f25d086af736a60e9eeb907d3b93b6e0e5",
    "execution": {
     "iopub.execute_input": "2023-11-26T21:21:23.993360Z",
     "iopub.status.busy": "2023-11-26T21:21:23.992904Z",
     "iopub.status.idle": "2023-11-26T21:21:24.926523Z",
     "shell.execute_reply": "2023-11-26T21:21:24.925186Z"
    },
    "papermill": {
     "duration": 0.946227,
     "end_time": "2023-11-26T21:21:24.929668",
     "exception": false,
     "start_time": "2023-11-26T21:21:23.983441",
     "status": "completed"
    },
    "tags": []
   },
   "outputs": [],
   "source": [
    "import numpy as np\n",
    "import pandas as pd\n",
    "from matplotlib import pyplot as plt"
   ]
  },
  {
   "cell_type": "code",
   "execution_count": 2,
   "id": "fe5bb82d",
   "metadata": {
    "execution": {
     "iopub.execute_input": "2023-11-26T21:21:24.947924Z",
     "iopub.status.busy": "2023-11-26T21:21:24.947311Z",
     "iopub.status.idle": "2023-11-26T21:21:29.688760Z",
     "shell.execute_reply": "2023-11-26T21:21:29.686878Z"
    },
    "papermill": {
     "duration": 4.753905,
     "end_time": "2023-11-26T21:21:29.692994",
     "exception": false,
     "start_time": "2023-11-26T21:21:24.939089",
     "status": "completed"
    },
    "tags": []
   },
   "outputs": [
    {
     "data": {
      "text/html": [
       "<div>\n",
       "<style scoped>\n",
       "    .dataframe tbody tr th:only-of-type {\n",
       "        vertical-align: middle;\n",
       "    }\n",
       "\n",
       "    .dataframe tbody tr th {\n",
       "        vertical-align: top;\n",
       "    }\n",
       "\n",
       "    .dataframe thead th {\n",
       "        text-align: right;\n",
       "    }\n",
       "</style>\n",
       "<table border=\"1\" class=\"dataframe\">\n",
       "  <thead>\n",
       "    <tr style=\"text-align: right;\">\n",
       "      <th></th>\n",
       "      <th>label</th>\n",
       "      <th>pixel0</th>\n",
       "      <th>pixel1</th>\n",
       "      <th>pixel2</th>\n",
       "      <th>pixel3</th>\n",
       "      <th>pixel4</th>\n",
       "      <th>pixel5</th>\n",
       "      <th>pixel6</th>\n",
       "      <th>pixel7</th>\n",
       "      <th>pixel8</th>\n",
       "      <th>...</th>\n",
       "      <th>pixel774</th>\n",
       "      <th>pixel775</th>\n",
       "      <th>pixel776</th>\n",
       "      <th>pixel777</th>\n",
       "      <th>pixel778</th>\n",
       "      <th>pixel779</th>\n",
       "      <th>pixel780</th>\n",
       "      <th>pixel781</th>\n",
       "      <th>pixel782</th>\n",
       "      <th>pixel783</th>\n",
       "    </tr>\n",
       "  </thead>\n",
       "  <tbody>\n",
       "    <tr>\n",
       "      <th>0</th>\n",
       "      <td>1</td>\n",
       "      <td>0</td>\n",
       "      <td>0</td>\n",
       "      <td>0</td>\n",
       "      <td>0</td>\n",
       "      <td>0</td>\n",
       "      <td>0</td>\n",
       "      <td>0</td>\n",
       "      <td>0</td>\n",
       "      <td>0</td>\n",
       "      <td>...</td>\n",
       "      <td>0</td>\n",
       "      <td>0</td>\n",
       "      <td>0</td>\n",
       "      <td>0</td>\n",
       "      <td>0</td>\n",
       "      <td>0</td>\n",
       "      <td>0</td>\n",
       "      <td>0</td>\n",
       "      <td>0</td>\n",
       "      <td>0</td>\n",
       "    </tr>\n",
       "    <tr>\n",
       "      <th>1</th>\n",
       "      <td>0</td>\n",
       "      <td>0</td>\n",
       "      <td>0</td>\n",
       "      <td>0</td>\n",
       "      <td>0</td>\n",
       "      <td>0</td>\n",
       "      <td>0</td>\n",
       "      <td>0</td>\n",
       "      <td>0</td>\n",
       "      <td>0</td>\n",
       "      <td>...</td>\n",
       "      <td>0</td>\n",
       "      <td>0</td>\n",
       "      <td>0</td>\n",
       "      <td>0</td>\n",
       "      <td>0</td>\n",
       "      <td>0</td>\n",
       "      <td>0</td>\n",
       "      <td>0</td>\n",
       "      <td>0</td>\n",
       "      <td>0</td>\n",
       "    </tr>\n",
       "    <tr>\n",
       "      <th>2</th>\n",
       "      <td>1</td>\n",
       "      <td>0</td>\n",
       "      <td>0</td>\n",
       "      <td>0</td>\n",
       "      <td>0</td>\n",
       "      <td>0</td>\n",
       "      <td>0</td>\n",
       "      <td>0</td>\n",
       "      <td>0</td>\n",
       "      <td>0</td>\n",
       "      <td>...</td>\n",
       "      <td>0</td>\n",
       "      <td>0</td>\n",
       "      <td>0</td>\n",
       "      <td>0</td>\n",
       "      <td>0</td>\n",
       "      <td>0</td>\n",
       "      <td>0</td>\n",
       "      <td>0</td>\n",
       "      <td>0</td>\n",
       "      <td>0</td>\n",
       "    </tr>\n",
       "    <tr>\n",
       "      <th>3</th>\n",
       "      <td>4</td>\n",
       "      <td>0</td>\n",
       "      <td>0</td>\n",
       "      <td>0</td>\n",
       "      <td>0</td>\n",
       "      <td>0</td>\n",
       "      <td>0</td>\n",
       "      <td>0</td>\n",
       "      <td>0</td>\n",
       "      <td>0</td>\n",
       "      <td>...</td>\n",
       "      <td>0</td>\n",
       "      <td>0</td>\n",
       "      <td>0</td>\n",
       "      <td>0</td>\n",
       "      <td>0</td>\n",
       "      <td>0</td>\n",
       "      <td>0</td>\n",
       "      <td>0</td>\n",
       "      <td>0</td>\n",
       "      <td>0</td>\n",
       "    </tr>\n",
       "    <tr>\n",
       "      <th>4</th>\n",
       "      <td>0</td>\n",
       "      <td>0</td>\n",
       "      <td>0</td>\n",
       "      <td>0</td>\n",
       "      <td>0</td>\n",
       "      <td>0</td>\n",
       "      <td>0</td>\n",
       "      <td>0</td>\n",
       "      <td>0</td>\n",
       "      <td>0</td>\n",
       "      <td>...</td>\n",
       "      <td>0</td>\n",
       "      <td>0</td>\n",
       "      <td>0</td>\n",
       "      <td>0</td>\n",
       "      <td>0</td>\n",
       "      <td>0</td>\n",
       "      <td>0</td>\n",
       "      <td>0</td>\n",
       "      <td>0</td>\n",
       "      <td>0</td>\n",
       "    </tr>\n",
       "  </tbody>\n",
       "</table>\n",
       "<p>5 rows × 785 columns</p>\n",
       "</div>"
      ],
      "text/plain": [
       "   label  pixel0  pixel1  pixel2  pixel3  pixel4  pixel5  pixel6  pixel7  \\\n",
       "0      1       0       0       0       0       0       0       0       0   \n",
       "1      0       0       0       0       0       0       0       0       0   \n",
       "2      1       0       0       0       0       0       0       0       0   \n",
       "3      4       0       0       0       0       0       0       0       0   \n",
       "4      0       0       0       0       0       0       0       0       0   \n",
       "\n",
       "   pixel8  ...  pixel774  pixel775  pixel776  pixel777  pixel778  pixel779  \\\n",
       "0       0  ...         0         0         0         0         0         0   \n",
       "1       0  ...         0         0         0         0         0         0   \n",
       "2       0  ...         0         0         0         0         0         0   \n",
       "3       0  ...         0         0         0         0         0         0   \n",
       "4       0  ...         0         0         0         0         0         0   \n",
       "\n",
       "   pixel780  pixel781  pixel782  pixel783  \n",
       "0         0         0         0         0  \n",
       "1         0         0         0         0  \n",
       "2         0         0         0         0  \n",
       "3         0         0         0         0  \n",
       "4         0         0         0         0  \n",
       "\n",
       "[5 rows x 785 columns]"
      ]
     },
     "execution_count": 2,
     "metadata": {},
     "output_type": "execute_result"
    }
   ],
   "source": [
    "train = pd.read_csv('/kaggle/input/mnist-train-dataset/train.csv')\n",
    "train.head()"
   ]
  },
  {
   "cell_type": "code",
   "execution_count": 3,
   "id": "c3ce4462",
   "metadata": {
    "execution": {
     "iopub.execute_input": "2023-11-26T21:21:29.710528Z",
     "iopub.status.busy": "2023-11-26T21:21:29.710107Z",
     "iopub.status.idle": "2023-11-26T21:21:32.566771Z",
     "shell.execute_reply": "2023-11-26T21:21:32.565079Z"
    },
    "papermill": {
     "duration": 2.869904,
     "end_time": "2023-11-26T21:21:32.570100",
     "exception": false,
     "start_time": "2023-11-26T21:21:29.700196",
     "status": "completed"
    },
    "tags": []
   },
   "outputs": [
    {
     "data": {
      "text/html": [
       "<div>\n",
       "<style scoped>\n",
       "    .dataframe tbody tr th:only-of-type {\n",
       "        vertical-align: middle;\n",
       "    }\n",
       "\n",
       "    .dataframe tbody tr th {\n",
       "        vertical-align: top;\n",
       "    }\n",
       "\n",
       "    .dataframe thead th {\n",
       "        text-align: right;\n",
       "    }\n",
       "</style>\n",
       "<table border=\"1\" class=\"dataframe\">\n",
       "  <thead>\n",
       "    <tr style=\"text-align: right;\">\n",
       "      <th></th>\n",
       "      <th>label</th>\n",
       "      <th>pixel0</th>\n",
       "      <th>pixel1</th>\n",
       "      <th>pixel2</th>\n",
       "      <th>pixel3</th>\n",
       "      <th>pixel4</th>\n",
       "      <th>pixel5</th>\n",
       "      <th>pixel6</th>\n",
       "      <th>pixel7</th>\n",
       "      <th>pixel8</th>\n",
       "      <th>...</th>\n",
       "      <th>pixel774</th>\n",
       "      <th>pixel775</th>\n",
       "      <th>pixel776</th>\n",
       "      <th>pixel777</th>\n",
       "      <th>pixel778</th>\n",
       "      <th>pixel779</th>\n",
       "      <th>pixel780</th>\n",
       "      <th>pixel781</th>\n",
       "      <th>pixel782</th>\n",
       "      <th>pixel783</th>\n",
       "    </tr>\n",
       "  </thead>\n",
       "  <tbody>\n",
       "    <tr>\n",
       "      <th>0</th>\n",
       "      <td>0</td>\n",
       "      <td>0</td>\n",
       "      <td>0</td>\n",
       "      <td>0</td>\n",
       "      <td>0</td>\n",
       "      <td>0</td>\n",
       "      <td>0</td>\n",
       "      <td>0</td>\n",
       "      <td>0</td>\n",
       "      <td>0</td>\n",
       "      <td>...</td>\n",
       "      <td>0</td>\n",
       "      <td>0</td>\n",
       "      <td>0</td>\n",
       "      <td>0</td>\n",
       "      <td>0</td>\n",
       "      <td>0</td>\n",
       "      <td>0</td>\n",
       "      <td>0</td>\n",
       "      <td>0</td>\n",
       "      <td>0</td>\n",
       "    </tr>\n",
       "    <tr>\n",
       "      <th>1</th>\n",
       "      <td>0</td>\n",
       "      <td>0</td>\n",
       "      <td>0</td>\n",
       "      <td>0</td>\n",
       "      <td>0</td>\n",
       "      <td>0</td>\n",
       "      <td>0</td>\n",
       "      <td>0</td>\n",
       "      <td>0</td>\n",
       "      <td>0</td>\n",
       "      <td>...</td>\n",
       "      <td>0</td>\n",
       "      <td>0</td>\n",
       "      <td>0</td>\n",
       "      <td>0</td>\n",
       "      <td>0</td>\n",
       "      <td>0</td>\n",
       "      <td>0</td>\n",
       "      <td>0</td>\n",
       "      <td>0</td>\n",
       "      <td>0</td>\n",
       "    </tr>\n",
       "    <tr>\n",
       "      <th>2</th>\n",
       "      <td>0</td>\n",
       "      <td>0</td>\n",
       "      <td>0</td>\n",
       "      <td>0</td>\n",
       "      <td>0</td>\n",
       "      <td>0</td>\n",
       "      <td>0</td>\n",
       "      <td>0</td>\n",
       "      <td>0</td>\n",
       "      <td>0</td>\n",
       "      <td>...</td>\n",
       "      <td>0</td>\n",
       "      <td>0</td>\n",
       "      <td>0</td>\n",
       "      <td>0</td>\n",
       "      <td>0</td>\n",
       "      <td>0</td>\n",
       "      <td>0</td>\n",
       "      <td>0</td>\n",
       "      <td>0</td>\n",
       "      <td>0</td>\n",
       "    </tr>\n",
       "    <tr>\n",
       "      <th>3</th>\n",
       "      <td>0</td>\n",
       "      <td>0</td>\n",
       "      <td>0</td>\n",
       "      <td>0</td>\n",
       "      <td>0</td>\n",
       "      <td>0</td>\n",
       "      <td>0</td>\n",
       "      <td>0</td>\n",
       "      <td>0</td>\n",
       "      <td>0</td>\n",
       "      <td>...</td>\n",
       "      <td>0</td>\n",
       "      <td>0</td>\n",
       "      <td>0</td>\n",
       "      <td>0</td>\n",
       "      <td>0</td>\n",
       "      <td>0</td>\n",
       "      <td>0</td>\n",
       "      <td>0</td>\n",
       "      <td>0</td>\n",
       "      <td>0</td>\n",
       "    </tr>\n",
       "    <tr>\n",
       "      <th>4</th>\n",
       "      <td>0</td>\n",
       "      <td>0</td>\n",
       "      <td>0</td>\n",
       "      <td>0</td>\n",
       "      <td>0</td>\n",
       "      <td>0</td>\n",
       "      <td>0</td>\n",
       "      <td>0</td>\n",
       "      <td>0</td>\n",
       "      <td>0</td>\n",
       "      <td>...</td>\n",
       "      <td>0</td>\n",
       "      <td>0</td>\n",
       "      <td>0</td>\n",
       "      <td>0</td>\n",
       "      <td>0</td>\n",
       "      <td>0</td>\n",
       "      <td>0</td>\n",
       "      <td>0</td>\n",
       "      <td>0</td>\n",
       "      <td>0</td>\n",
       "    </tr>\n",
       "  </tbody>\n",
       "</table>\n",
       "<p>5 rows × 785 columns</p>\n",
       "</div>"
      ],
      "text/plain": [
       "   label  pixel0  pixel1  pixel2  pixel3  pixel4  pixel5  pixel6  pixel7  \\\n",
       "0      0       0       0       0       0       0       0       0       0   \n",
       "1      0       0       0       0       0       0       0       0       0   \n",
       "2      0       0       0       0       0       0       0       0       0   \n",
       "3      0       0       0       0       0       0       0       0       0   \n",
       "4      0       0       0       0       0       0       0       0       0   \n",
       "\n",
       "   pixel8  ...  pixel774  pixel775  pixel776  pixel777  pixel778  pixel779  \\\n",
       "0       0  ...         0         0         0         0         0         0   \n",
       "1       0  ...         0         0         0         0         0         0   \n",
       "2       0  ...         0         0         0         0         0         0   \n",
       "3       0  ...         0         0         0         0         0         0   \n",
       "4       0  ...         0         0         0         0         0         0   \n",
       "\n",
       "   pixel780  pixel781  pixel782  pixel783  \n",
       "0         0         0         0         0  \n",
       "1         0         0         0         0  \n",
       "2         0         0         0         0  \n",
       "3         0         0         0         0  \n",
       "4         0         0         0         0  \n",
       "\n",
       "[5 rows x 785 columns]"
      ]
     },
     "execution_count": 3,
     "metadata": {},
     "output_type": "execute_result"
    }
   ],
   "source": [
    "\n",
    "test = pd.read_csv('/kaggle/input/testing-dataset/test.csv')\n",
    "test.head()"
   ]
  },
  {
   "cell_type": "code",
   "execution_count": 4,
   "id": "8b38f765",
   "metadata": {
    "execution": {
     "iopub.execute_input": "2023-11-26T21:21:32.587521Z",
     "iopub.status.busy": "2023-11-26T21:21:32.586779Z",
     "iopub.status.idle": "2023-11-26T21:21:33.445225Z",
     "shell.execute_reply": "2023-11-26T21:21:33.443708Z"
    },
    "papermill": {
     "duration": 0.871361,
     "end_time": "2023-11-26T21:21:33.448712",
     "exception": false,
     "start_time": "2023-11-26T21:21:32.577351",
     "status": "completed"
    },
    "tags": []
   },
   "outputs": [],
   "source": [
    "train=np.array(train)\n",
    "m,n=train.shape\n",
    "np.random.shuffle(train)\n",
    "\n",
    "test = train[0:1000].T\n",
    "l_test = test[0]\n",
    "v_test = test[1:n]\n",
    "v_test = v_test / 255.\n",
    "\n",
    "train = train[1000:m].T\n",
    "label_train = train[0]\n",
    "value_train = train[1:n]\n",
    "value_train = value_train / 255.\n",
    "_,m_train = value_train.shape"
   ]
  },
  {
   "cell_type": "code",
   "execution_count": 5,
   "id": "5f0eb1a1",
   "metadata": {
    "execution": {
     "iopub.execute_input": "2023-11-26T21:21:33.467924Z",
     "iopub.status.busy": "2023-11-26T21:21:33.466923Z",
     "iopub.status.idle": "2023-11-26T21:21:33.474496Z",
     "shell.execute_reply": "2023-11-26T21:21:33.472996Z"
    },
    "papermill": {
     "duration": 0.020796,
     "end_time": "2023-11-26T21:21:33.477337",
     "exception": false,
     "start_time": "2023-11-26T21:21:33.456541",
     "status": "completed"
    },
    "tags": []
   },
   "outputs": [],
   "source": [
    "def initial_parameters():\n",
    "    W1 = np.random.rand(128, 784) - 0.5\n",
    "    b1 = np.random.rand(128, 1) - 0.5\n",
    "    W2 = np.random.rand(10, 128) - 0.5\n",
    "    b2 = np.random.rand(10, 1) - 0.5\n",
    "    return W1, b1, W2, b2"
   ]
  },
  {
   "cell_type": "code",
   "execution_count": 6,
   "id": "09769537",
   "metadata": {
    "execution": {
     "iopub.execute_input": "2023-11-26T21:21:33.494570Z",
     "iopub.status.busy": "2023-11-26T21:21:33.494141Z",
     "iopub.status.idle": "2023-11-26T21:21:33.499946Z",
     "shell.execute_reply": "2023-11-26T21:21:33.498474Z"
    },
    "papermill": {
     "duration": 0.01797,
     "end_time": "2023-11-26T21:21:33.502864",
     "exception": false,
     "start_time": "2023-11-26T21:21:33.484894",
     "status": "completed"
    },
    "tags": []
   },
   "outputs": [],
   "source": [
    "def ReLU(Z):\n",
    "    return np.maximum(0,Z)"
   ]
  },
  {
   "cell_type": "code",
   "execution_count": 7,
   "id": "b120c5d7",
   "metadata": {
    "execution": {
     "iopub.execute_input": "2023-11-26T21:21:33.520986Z",
     "iopub.status.busy": "2023-11-26T21:21:33.520533Z",
     "iopub.status.idle": "2023-11-26T21:21:33.528224Z",
     "shell.execute_reply": "2023-11-26T21:21:33.526891Z"
    },
    "papermill": {
     "duration": 0.019922,
     "end_time": "2023-11-26T21:21:33.530987",
     "exception": false,
     "start_time": "2023-11-26T21:21:33.511065",
     "status": "completed"
    },
    "tags": []
   },
   "outputs": [],
   "source": [
    "def forward_prop(W1, b1, W2, b2, X):\n",
    "    Z1= np.dot(W1,X) + b1\n",
    "    A1=ReLU (Z1)\n",
    "    Z2= np.dot(W2,A1) + b2\n",
    "    A2=softmax(Z2)\n",
    "    return Z1, A1, Z2, A2    "
   ]
  },
  {
   "cell_type": "code",
   "execution_count": 8,
   "id": "febd2442",
   "metadata": {
    "execution": {
     "iopub.execute_input": "2023-11-26T21:21:33.547964Z",
     "iopub.status.busy": "2023-11-26T21:21:33.547545Z",
     "iopub.status.idle": "2023-11-26T21:21:33.553008Z",
     "shell.execute_reply": "2023-11-26T21:21:33.552162Z"
    },
    "papermill": {
     "duration": 0.016882,
     "end_time": "2023-11-26T21:21:33.555365",
     "exception": false,
     "start_time": "2023-11-26T21:21:33.538483",
     "status": "completed"
    },
    "tags": []
   },
   "outputs": [],
   "source": [
    "def true_value(Y):\n",
    "    true_value = np.zeros((Y.size, Y.max() + 1))\n",
    "    true_value[np.arange(Y.size), Y] = 1\n",
    "    true_value = true_value.T\n",
    "    return true_value"
   ]
  },
  {
   "cell_type": "code",
   "execution_count": 9,
   "id": "9f284db1",
   "metadata": {
    "execution": {
     "iopub.execute_input": "2023-11-26T21:21:33.573911Z",
     "iopub.status.busy": "2023-11-26T21:21:33.573457Z",
     "iopub.status.idle": "2023-11-26T21:21:33.579753Z",
     "shell.execute_reply": "2023-11-26T21:21:33.578214Z"
    },
    "papermill": {
     "duration": 0.019915,
     "end_time": "2023-11-26T21:21:33.582902",
     "exception": false,
     "start_time": "2023-11-26T21:21:33.562987",
     "status": "completed"
    },
    "tags": []
   },
   "outputs": [],
   "source": [
    "def ReLU_deriv(Z):\n",
    "    return Z > 0\n",
    "\n",
    "def softmax(Z):\n",
    "    A = np.exp(Z) / sum(np.exp(Z))\n",
    "    return A"
   ]
  },
  {
   "cell_type": "code",
   "execution_count": 10,
   "id": "9723df8b",
   "metadata": {
    "execution": {
     "iopub.execute_input": "2023-11-26T21:21:33.600408Z",
     "iopub.status.busy": "2023-11-26T21:21:33.599728Z",
     "iopub.status.idle": "2023-11-26T21:21:33.609133Z",
     "shell.execute_reply": "2023-11-26T21:21:33.607403Z"
    },
    "papermill": {
     "duration": 0.021722,
     "end_time": "2023-11-26T21:21:33.612153",
     "exception": false,
     "start_time": "2023-11-26T21:21:33.590431",
     "status": "completed"
    },
    "tags": []
   },
   "outputs": [],
   "source": [
    "def backward_prop(Z1,Z2, A1, A2,W2, X, Y):\n",
    "    tv = true_value(Y)\n",
    "    dZ2 = A2 - tv\n",
    "    dW2 = 1 / m * dZ2.dot(A1.T)\n",
    "    db2 = 1 / m * np.sum(dZ2)\n",
    "    dZ1 = W2.T.dot(dZ2) * ReLU_deriv(Z1)\n",
    "    dW1 = 1 / m * dZ1.dot(X.T)\n",
    "    db1 = 1 / m * np.sum(dZ1)\n",
    "    return dW1, db1, dW2, db2"
   ]
  },
  {
   "cell_type": "code",
   "execution_count": 11,
   "id": "bc621fe9",
   "metadata": {
    "execution": {
     "iopub.execute_input": "2023-11-26T21:21:33.630104Z",
     "iopub.status.busy": "2023-11-26T21:21:33.629591Z",
     "iopub.status.idle": "2023-11-26T21:21:33.636929Z",
     "shell.execute_reply": "2023-11-26T21:21:33.635602Z"
    },
    "papermill": {
     "duration": 0.019598,
     "end_time": "2023-11-26T21:21:33.639529",
     "exception": false,
     "start_time": "2023-11-26T21:21:33.619931",
     "status": "completed"
    },
    "tags": []
   },
   "outputs": [],
   "source": [
    "def update_p(W1, b1, W2, b2, dW1, dW2, db1, db2, alpha):\n",
    "    W1 = W1 - alpha * dW1\n",
    "    b1 = b1 - alpha * db1    \n",
    "    W2 = W2 - alpha * dW2  \n",
    "    b2 = b2 - alpha * db2    \n",
    "    return W1, b1, W2, b2    "
   ]
  },
  {
   "cell_type": "code",
   "execution_count": 12,
   "id": "eb29e34b",
   "metadata": {
    "execution": {
     "iopub.execute_input": "2023-11-26T21:21:33.656801Z",
     "iopub.status.busy": "2023-11-26T21:21:33.656318Z",
     "iopub.status.idle": "2023-11-26T21:21:33.666734Z",
     "shell.execute_reply": "2023-11-26T21:21:33.665354Z"
    },
    "papermill": {
     "duration": 0.022674,
     "end_time": "2023-11-26T21:21:33.669630",
     "exception": false,
     "start_time": "2023-11-26T21:21:33.646956",
     "status": "completed"
    },
    "tags": []
   },
   "outputs": [],
   "source": [
    "def get_predictions(A2):\n",
    "    return np.argmax(A2, 0)\n",
    "\n",
    "def get_accuracy(predictions, Y):\n",
    "    print(predictions, Y)\n",
    "    return np.sum(predictions == Y) / Y.size\n",
    "\n",
    "def gradient_descent(X, Y, alpha, iterations):\n",
    "    W1, b1, W2, b2 = initial_parameters()\n",
    "    for i in range(iterations):\n",
    "        Z1, A1, Z2, A2 = forward_prop(W1, b1, W2, b2, X)\n",
    "        dW1, db1, dW2, db2 = backward_prop(Z1, Z2, A1, A2, W2, X, Y)\n",
    "        W1, b1, W2, b2 = update_p(W1, b1, W2, b2, dW1, dW2, db1, db2, alpha)\n",
    "        if i % 100 == 0:\n",
    "            print(\"Iteration: \", i)\n",
    "            predictions = get_predictions(A2)\n",
    "            print(get_accuracy(predictions, Y))\n",
    "    return W1, b1, W2, b2"
   ]
  },
  {
   "cell_type": "code",
   "execution_count": 13,
   "id": "6d8b06cd",
   "metadata": {
    "execution": {
     "iopub.execute_input": "2023-11-26T21:21:33.688482Z",
     "iopub.status.busy": "2023-11-26T21:21:33.687430Z",
     "iopub.status.idle": "2023-11-26T21:30:20.594549Z",
     "shell.execute_reply": "2023-11-26T21:30:20.593312Z"
    },
    "papermill": {
     "duration": 526.940635,
     "end_time": "2023-11-26T21:30:20.618094",
     "exception": false,
     "start_time": "2023-11-26T21:21:33.677459",
     "status": "completed"
    },
    "tags": []
   },
   "outputs": [
    {
     "name": "stdout",
     "output_type": "stream",
     "text": [
      "Iteration:  0\n",
      "[0 3 7 ... 1 0 7] [3 2 2 ... 5 6 6]\n",
      "0.12865853658536586\n",
      "Iteration:  100\n",
      "[6 2 2 ... 5 6 6] [3 2 2 ... 5 6 6]\n",
      "0.8797560975609756\n",
      "Iteration:  200\n",
      "[3 2 2 ... 5 6 6] [3 2 2 ... 5 6 6]\n",
      "0.9092439024390244\n",
      "Iteration:  300\n",
      "[3 2 2 ... 5 6 6] [3 2 2 ... 5 6 6]\n",
      "0.9232926829268293\n",
      "Iteration:  400\n",
      "[3 2 2 ... 5 6 6] [3 2 2 ... 5 6 6]\n",
      "0.9326341463414635\n",
      "Iteration:  500\n",
      "[3 2 2 ... 5 6 6] [3 2 2 ... 5 6 6]\n",
      "0.9392439024390243\n",
      "Iteration:  600\n",
      "[3 2 2 ... 5 6 6] [3 2 2 ... 5 6 6]\n",
      "0.9449024390243902\n",
      "Iteration:  700\n",
      "[3 2 2 ... 5 6 6] [3 2 2 ... 5 6 6]\n",
      "0.9486829268292682\n",
      "Iteration:  800\n",
      "[3 2 2 ... 5 6 6] [3 2 2 ... 5 6 6]\n",
      "0.9519512195121951\n",
      "Iteration:  900\n",
      "[3 2 2 ... 5 6 6] [3 2 2 ... 5 6 6]\n",
      "0.9552439024390244\n",
      "Iteration:  1000\n",
      "[3 2 2 ... 5 6 6] [3 2 2 ... 5 6 6]\n",
      "0.9584878048780487\n"
     ]
    }
   ],
   "source": [
    "W1, b1, W2, b2 = gradient_descent(value_train, label_train, 0.3 ,1001)"
   ]
  },
  {
   "cell_type": "code",
   "execution_count": 14,
   "id": "3a2d4382",
   "metadata": {
    "execution": {
     "iopub.execute_input": "2023-11-26T21:30:20.659056Z",
     "iopub.status.busy": "2023-11-26T21:30:20.658315Z",
     "iopub.status.idle": "2023-11-26T21:30:20.681705Z",
     "shell.execute_reply": "2023-11-26T21:30:20.680047Z"
    },
    "papermill": {
     "duration": 0.050223,
     "end_time": "2023-11-26T21:30:20.687689",
     "exception": false,
     "start_time": "2023-11-26T21:30:20.637466",
     "status": "completed"
    },
    "tags": []
   },
   "outputs": [],
   "source": [
    "def make_predictions(X, W1, b1, W2, b2):\n",
    "    _, _, _, A2 = forward_prop(W1, b1, W2, b2, X)\n",
    "    predictions = get_predictions(A2)\n",
    "    return predictions\n",
    " \n",
    "def test_prediction(index, W1, b1, W2, b2):\n",
    "    current_image = value_train[:, index, None]\n",
    "    prediction = make_predictions(value_train[:, index, None], W1, b1, W2, b2)\n",
    "    label = label_train[index]\n",
    "    print(\"Prediction: \", prediction)\n",
    "    print(\"Label: \", label)\n",
    "    \n",
    "    current_image = current_image.reshape((28, 28)) * 255\n",
    "    plt.gray()\n",
    "    plt.imshow(current_image, interpolation='nearest')\n",
    "    plt.show()"
   ]
  },
  {
   "cell_type": "code",
   "execution_count": 15,
   "id": "476c2819",
   "metadata": {
    "execution": {
     "iopub.execute_input": "2023-11-26T21:30:20.710595Z",
     "iopub.status.busy": "2023-11-26T21:30:20.709795Z",
     "iopub.status.idle": "2023-11-26T21:30:21.961222Z",
     "shell.execute_reply": "2023-11-26T21:30:21.959695Z"
    },
    "papermill": {
     "duration": 1.263937,
     "end_time": "2023-11-26T21:30:21.963761",
     "exception": false,
     "start_time": "2023-11-26T21:30:20.699824",
     "status": "completed"
    },
    "tags": []
   },
   "outputs": [
    {
     "name": "stdout",
     "output_type": "stream",
     "text": [
      "Prediction:  [8]\n",
      "Label:  8\n"
     ]
    },
    {
     "data": {
      "image/png": "[encoded data removed]",
      "text/plain": [
       "<Figure size 640x480 with 1 Axes>"
      ]
     },
     "metadata": {},
     "output_type": "display_data"
    },
    {
     "name": "stdout",
     "output_type": "stream",
     "text": [
      "Prediction:  [6]\n",
      "Label:  6\n"
     ]
    },
    {
     "data": {
      "image/png": "[encoded data removed]",
      "text/plain": [
       "<Figure size 640x480 with 1 Axes>"
      ]
     },
     "metadata": {},
     "output_type": "display_data"
    },
    {
     "name": "stdout",
     "output_type": "stream",
     "text": [
      "Prediction:  [8]\n",
      "Label:  8\n"
     ]
    },
    {
     "data": {
      "image/png": "[encoded data removed]",
      "text/plain": [
       "<Figure size 640x480 with 1 Axes>"
      ]
     },
     "metadata": {},
     "output_type": "display_data"
    },
    {
     "name": "stdout",
     "output_type": "stream",
     "text": [
      "Prediction:  [6]\n",
      "Label:  6\n"
     ]
    },
    {
     "data": {
      "image/png": "[encoded data removed]",
      "text/plain": [
       "<Figure size 640x480 with 1 Axes>"
      ]
     },
     "metadata": {},
     "output_type": "display_data"
    }
   ],
   "source": [
    "test_prediction(10, W1, b1, W2, b2)\n",
    "test_prediction(150, W1, b1, W2, b2)\n",
    "test_prediction(69, W1, b1, W2, b2)\n",
    "test_prediction(420, W1, b1, W2, b2)"
   ]
  },
  {
   "cell_type": "code",
   "execution_count": 16,
   "id": "d425be02",
   "metadata": {
    "execution": {
     "iopub.execute_input": "2023-11-26T21:30:21.985486Z",
     "iopub.status.busy": "2023-11-26T21:30:21.985007Z",
     "iopub.status.idle": "2023-11-26T21:30:22.031835Z",
     "shell.execute_reply": "2023-11-26T21:30:22.030058Z"
    },
    "papermill": {
     "duration": 0.063298,
     "end_time": "2023-11-26T21:30:22.036637",
     "exception": false,
     "start_time": "2023-11-26T21:30:21.973339",
     "status": "completed"
    },
    "tags": []
   },
   "outputs": [
    {
     "name": "stdout",
     "output_type": "stream",
     "text": [
      "[0 0 7 3 3 4 5 7 2 1 3 0 2 8 7 5 6 1 8 6 6 9 1 6 7 3 8 8 2 8 9 9 1 9 7 9 2\n",
      " 9 3 5 7 0 9 1 9 6 8 8 3 3 4 2 1 7 4 2 3 8 4 2 3 7 7 0 5 7 6 7 6 0 7 0 0 9\n",
      " 9 9 2 8 3 4 5 7 6 1 1 1 8 2 7 6 9 0 5 9 0 1 7 1 5 7 9 6 2 7 8 5 6 7 5 2 3\n",
      " 1 3 3 8 7 4 3 1 1 6 7 6 3 2 1 5 9 9 2 7 8 7 5 7 3 8 4 5 2 1 6 9 2 6 4 7 1\n",
      " 4 3 0 7 1 2 9 2 1 3 8 0 1 3 0 2 9 8 2 6 6 4 6 7 1 4 3 6 3 9 8 2 6 9 1 7 9\n",
      " 2 9 3 3 3 9 2 0 4 3 1 7 9 8 7 3 1 1 9 2 5 0 8 8 9 3 1 3 4 1 7 3 9 2 4 0 9\n",
      " 6 2 7 7 5 4 8 9 0 6 1 6 6 7 2 4 4 6 6 9 0 1 8 9 0 5 5 6 6 7 8 4 1 9 9 0 5\n",
      " 4 1 0 1 5 3 6 5 7 3 2 3 7 1 4 1 5 5 2 8 5 3 1 1 9 6 4 0 1 7 9 2 1 8 1 9 8\n",
      " 1 3 0 8 9 6 1 5 6 6 0 4 0 0 0 7 5 4 9 4 1 6 6 6 5 0 3 0 5 5 6 9 4 5 2 9 7\n",
      " 0 1 1 7 1 4 6 2 9 0 5 9 5 2 2 4 3 1 3 0 4 8 6 1 3 4 5 5 8 6 0 9 9 9 9 2 1\n",
      " 1 6 3 1 6 8 7 8 2 7 5 6 2 1 2 3 4 4 1 1 2 2 2 2 4 3 0 3 8 0 2 0 7 8 6 3 9\n",
      " 3 3 9 0 3 6 9 3 9 2 4 9 9 1 1 0 9 0 0 5 9 4 8 8 7 7 6 8 8 7 1 6 0 1 4 7 5\n",
      " 1 2 2 0 0 5 3 9 7 4 8 4 0 9 5 6 7 8 7 2 6 6 8 1 0 9 0 8 1 6 2 9 8 5 1 3 3\n",
      " 7 4 7 1 7 2 1 7 2 2 6 3 1 3 7 7 8 1 7 1 2 9 4 1 7 6 8 1 0 1 7 0 0 2 9 2 7\n",
      " 8 7 8 5 6 8 1 4 0 3 1 6 3 9 5 0 5 3 5 3 6 5 3 2 2 2 3 0 5 5 7 2 7 6 9 3 4\n",
      " 2 9 5 9 0 5 1 4 3 5 9 4 1 9 9 9 1 7 2 2 9 8 4 4 1 8 8 5 1 3 1 0 2 6 6 1 5\n",
      " 1 3 4 4 8 5 2 6 5 3 9 2 3 0 7 3 0 2 0 9 3 6 1 8 8 8 8 8 1 0 6 7 1 1 0 4 4\n",
      " 6 7 9 1 0 3 3 8 0 6 7 9 8 1 8 6 4 3 1 1 9 0 3 1 7 2 4 0 0 9 8 9 4 9 5 1 8\n",
      " 3 2 1 6 5 7 6 0 6 6 6 7 9 8 7 8 0 9 5 5 9 6 4 5 4 2 8 2 5 6 7 1 8 8 2 0 7\n",
      " 9 4 3 1 2 8 2 2 1 7 7 0 0 6 3 0 1 8 8 7 6 1 4 8 6 1 9 0 1 7 8 4 7 5 7 9 8\n",
      " 2 0 0 1 3 1 9 3 2 8 5 1 6 0 0 9 8 9 1 5 1 5 9 5 1 0 2 8 3 1 7 4 0 1 1 6 9\n",
      " 8 6 2 7 4 6 9 9 8 2 4 9 9 6 6 2 3 5 5 6 2 1 0 0 5 7 6 9 9 7 0 7 1 8 0 2 9\n",
      " 0 3 1 2 0 4 0 4 0 7 3 8 9 9 7 0 4 9 8 5 7 1 9 8 9 3 0 3 1 1 3 6 2 0 8 3 4\n",
      " 2 7 0 4 0 0 1 1 9 2 8 0 4 4 9 5 9 6 9 1 2 8 2 3 8 0 6 3 3 2 5 7 6 8 9 7 7\n",
      " 5 0 1 3 7 8 4 4 8 4 7 4 7 2 7 7 6 8 4 1 2 4 9 2 9 5 3 8 6 0 0 8 6 5 8 7 1\n",
      " 5 6 7 2 2 4 0 4 1 2 1 2 1 9 7 9 4 3 0 3 1 1 7 7 4 7 9 1 0 6 6 2 0 3 2 6 4\n",
      " 1 9 7 2 1 8 9 1 4 3 2 1 9 3 5 6 5 9 8 5 7 2 4 8 7 8 1 7 1 8 5 7 5 1 1 0 2\n",
      " 6] [0 7 7 5 3 4 5 7 2 1 3 0 2 8 7 5 6 1 8 6 6 9 1 6 7 3 8 8 2 8 4 9 1 9 7 5 2\n",
      " 9 3 5 7 0 9 1 9 6 8 8 3 3 4 2 1 7 4 2 3 8 4 2 3 7 7 0 5 7 6 7 6 0 7 0 0 9\n",
      " 9 9 2 8 3 4 5 7 6 1 1 1 8 2 7 6 9 0 5 9 0 1 7 1 5 7 9 6 2 7 8 5 6 7 5 2 3\n",
      " 1 3 3 8 7 4 7 1 1 0 2 6 3 2 1 5 9 9 2 7 8 7 5 7 2 8 4 5 2 1 6 9 2 6 4 7 1\n",
      " 4 3 0 7 1 2 9 2 1 2 8 0 1 3 0 2 9 8 2 6 6 4 6 7 1 4 3 6 3 9 8 2 6 9 1 7 9\n",
      " 2 9 3 3 3 9 2 0 4 3 1 7 9 8 7 3 1 1 9 2 5 0 8 8 9 3 1 3 4 1 7 3 9 2 4 0 9\n",
      " 5 2 7 7 5 4 8 9 0 6 1 6 0 7 2 4 5 6 6 9 0 1 8 9 0 5 5 6 6 7 8 4 1 9 9 0 5\n",
      " 4 2 0 1 5 3 6 5 7 3 2 3 7 1 4 1 5 5 2 8 5 3 1 1 9 6 6 0 1 7 8 2 3 8 1 9 8\n",
      " 1 3 0 8 9 6 1 5 3 6 0 4 2 0 0 7 3 4 3 4 1 6 6 6 5 0 3 0 5 5 6 9 4 5 2 9 7\n",
      " 0 1 1 7 1 4 6 2 9 0 3 9 5 2 2 4 3 1 3 0 4 8 6 1 3 9 5 5 8 6 0 3 9 9 9 2 1\n",
      " 1 6 3 1 6 8 7 8 2 7 5 6 2 1 2 3 4 4 1 1 2 2 2 2 4 3 0 3 8 0 2 0 7 8 6 3 9\n",
      " 3 3 9 0 3 6 9 3 9 2 4 9 4 1 1 0 9 5 0 5 9 4 8 8 7 7 6 8 8 7 1 6 0 1 4 7 5\n",
      " 1 3 2 0 0 5 3 8 7 4 8 4 0 9 5 6 7 8 7 2 6 6 8 1 0 9 0 8 1 6 2 9 8 5 1 3 8\n",
      " 7 4 7 1 7 2 1 7 2 2 6 3 1 3 7 7 8 1 7 1 2 9 4 1 7 6 8 1 0 1 7 0 0 2 9 2 9\n",
      " 8 7 8 5 6 8 1 4 0 3 1 6 3 9 5 0 5 3 5 3 6 5 3 2 2 2 3 0 5 5 7 2 7 6 9 3 4\n",
      " 2 9 5 9 0 5 1 4 3 5 9 4 1 9 9 8 1 7 2 2 9 8 4 4 1 8 8 5 1 3 1 4 2 6 6 1 5\n",
      " 1 3 4 4 8 5 2 6 5 3 9 2 3 0 7 3 0 2 0 9 3 6 1 8 8 8 8 8 1 0 6 7 1 1 0 4 4\n",
      " 6 7 9 1 0 3 3 8 0 6 7 9 8 1 8 6 4 3 1 1 4 0 3 1 7 2 4 0 0 9 8 3 4 9 5 1 8\n",
      " 3 2 1 6 5 7 6 0 6 6 6 7 9 8 7 8 0 9 5 5 9 6 4 5 4 2 8 3 5 6 7 1 5 8 2 0 7\n",
      " 9 4 3 1 2 8 2 2 1 7 7 0 0 6 3 0 1 8 8 7 6 1 4 8 6 1 9 0 1 7 8 4 7 5 7 9 8\n",
      " 2 0 0 1 2 1 9 3 2 8 5 1 6 0 0 9 8 9 1 5 1 5 9 3 1 0 2 5 3 1 7 4 0 1 1 6 9\n",
      " 8 6 2 7 4 6 9 7 8 2 4 9 9 6 6 2 3 5 5 6 2 1 0 0 5 7 6 9 9 7 0 7 1 8 0 2 9\n",
      " 0 3 1 2 0 4 0 4 0 7 3 8 9 9 7 0 4 9 8 5 7 1 8 8 4 3 0 3 1 1 1 6 8 0 8 3 4\n",
      " 2 7 0 4 0 0 1 8 9 2 8 0 4 4 9 5 9 6 9 1 2 8 2 3 8 0 6 3 3 8 5 7 6 8 9 7 7\n",
      " 5 0 1 3 7 8 4 4 8 4 7 4 7 2 9 7 6 8 4 1 2 4 9 2 9 5 3 8 6 0 0 8 6 5 8 7 1\n",
      " 5 6 7 2 2 4 0 9 1 3 1 4 1 9 7 9 4 3 0 3 1 1 7 7 4 7 9 1 5 6 6 2 0 3 2 6 4\n",
      " 1 9 7 2 1 8 9 1 4 5 2 1 9 3 5 6 5 9 8 5 7 2 4 8 7 8 1 7 1 8 5 7 5 1 1 0 2\n",
      " 6]\n"
     ]
    },
    {
     "data": {
      "text/plain": [
       "0.949"
      ]
     },
     "execution_count": 16,
     "metadata": {},
     "output_type": "execute_result"
    }
   ],
   "source": [
    "dev_predictions = make_predictions(v_test, W1, b1, W2, b2)\n",
    "get_accuracy(dev_predictions, l_test)"
   ]
  }
 ],
 "metadata": {
  "kaggle": {
   "accelerator": "none",
   "dataSources": [
    {
     "datasetId": 4061703,
     "sourceId": 7056404,
     "sourceType": "datasetVersion"
    },
    {
     "datasetId": 4063827,
     "sourceId": 7059269,
     "sourceType": "datasetVersion"
    }
   ],
   "dockerImageVersionId": 30587,
   "isGpuEnabled": false,
   "isInternetEnabled": false,
   "language": "python",
   "sourceType": "notebook"
  },
  "kernelspec": {
   "display_name": "Python 3",
   "language": "python",
   "name": "python3"
  },
  "language_info": {
   "codemirror_mode": {
    "name": "ipython",
    "version": 3
   },
   "file_extension": ".py",
   "mimetype": "text/x-python",
   "name": "python",
   "nbconvert_exporter": "python",
   "pygments_lexer": "ipython3",
   "version": "3.10.12"
  },
  "papermill": {
   "default_parameters": {},
   "duration": 543.472635,
   "end_time": "2023-11-26T21:30:22.693896",
   "environment_variables": {},
   "exception": null,
   "input_path": "__notebook__.ipynb",
   "output_path": "__notebook__.ipynb",
   "parameters": {},
   "start_time": "2023-11-26T21:21:19.221261",
   "version": "2.4.0"
  }
 },
 "nbformat": 4,
 "nbformat_minor": 5
}
